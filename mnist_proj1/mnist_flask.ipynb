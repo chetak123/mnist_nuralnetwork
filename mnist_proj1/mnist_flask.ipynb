{
 "cells": [
  {
   "cell_type": "code",
   "execution_count": 7,
   "metadata": {},
   "outputs": [],
   "source": [
    "import pickle\n",
    "import os\n",
    "\n",
    "#import libraries\n",
    "import numpy as np\n",
    "import scipy.special #here its used for the activation function(writting clear sigmoid fun.)\n",
    "import matplotlib.pyplot as plt"
   ]
  },
  {
   "cell_type": "code",
   "execution_count": 8,
   "metadata": {},
   "outputs": [],
   "source": [
    "def nural(input_l):\n",
    "    x_act=lambda x:scipy.special.expit(x)\n",
    "    inp=np.array(input_l,ndmin=2).T\n",
    "    hi_i=np.dot(x_wih,input_l)\n",
    "    hi_o=x_act(hi_i)\n",
    "    fi_i=np.dot(x_who,hi_o)\n",
    "    fi_o=x_act(fi_i)\n",
    "    return (fi_o)"
   ]
  },
  {
   "cell_type": "code",
   "execution_count": 9,
   "metadata": {},
   "outputs": [
    {
     "data": {
      "text/plain": [
       "<function __main__.nural(input_l)>"
      ]
     },
     "execution_count": 9,
     "metadata": {},
     "output_type": "execute_result"
    }
   ],
   "source": [
    "# load the mnist test data CSV file into a list\n",
    "test_data_file = open(\"mnist_train_100.csv\", 'r')\n",
    "test_data_list = test_data_file.readlines()\n",
    "test_data_file.close()\n",
    "model_path1=os.path.join(os.path.pardir,'models','model_reg.pkl') #path variable where file is stored\n",
    "model_path2=os.path.join(os.path.pardir,'models','model_who.pkl') #path variable where file is stored\n",
    "model_path3=os.path.join(os.path.pardir,'models','model_wih.pkl') #path variable where file is stored\n",
    "#checking the saved model through already available path variable model_path\n",
    "model_pick1=open(model_path1,'rb') #rb means read only in binary format (since its saved in binary not UTF8)\n",
    "model_pick2=open(model_path2,'rb') #rb means read only in bi\n",
    "model_pick3=open(model_path3,'rb') #rb means read only in bi\n",
    "model_load1=pickle.load(model_pick1)\n",
    "x_wih=pickle.load(model_pick3)\n",
    "x_who=pickle.load(model_pick2)\n",
    "model_pick1.close()\n",
    "model_pick2.close()\n",
    "model_pick3.close()\n",
    "model_load1"
   ]
  },
  {
   "cell_type": "code",
   "execution_count": 10,
   "metadata": {},
   "outputs": [],
   "source": [
    "# test the neural network\n",
    "# scorecard for how well the network performs, initially empty\n",
    "scorecards = []\n",
    "# go through all the records in the test data set\n",
    "for record in test_data_list:\n",
    "# split the record by the ',' commas\n",
    "    all_values = record.split(',')\n",
    "    # correct answer is first value\n",
    "    correct_label = int(all_values[0])\n",
    "    #print(correct_label, \"correct label\")\n",
    "    # scale and shift the inputs\n",
    "    inputs = (np.asfarray(all_values[1:]) / 255.0 * 0.99) + 0.01\n",
    "    # query the network\n",
    "    outputs = model_load1(inputs)\n",
    "    # the index of the highest value corresponds to the label\n",
    "    label = np.argmax(outputs)\n",
    "    #print(label, \"network's answer\")\n",
    "    # append correct or incorrect to list\n",
    "    if (label == correct_label):\n",
    "    # network's answer matches correct answer, add 1 to scorecard\n",
    "        scorecards.append(1)\n",
    "    else:\n",
    "    # network's answer doesn't match correct answer, add 0 to scorecard\n",
    "        scorecards.append(0)\n",
    "        pass\n",
    "    pass"
   ]
  },
  {
   "cell_type": "code",
   "execution_count": 12,
   "metadata": {},
   "outputs": [
    {
     "name": "stdout",
     "output_type": "stream",
     "text": [
      "performance =  0.93\n"
     ]
    }
   ],
   "source": [
    "# calculate the performance score, the fraction of correct answers\n",
    "scorecard_array = np.asarray(scorecards)\n",
    "print (\"performance = \", scorecard_array.sum() /scorecard_array.size)"
   ]
  },
  {
   "cell_type": "code",
   "execution_count": 41,
   "metadata": {},
   "outputs": [
    {
     "name": "stdout",
     "output_type": "stream",
     "text": [
      "3\n"
     ]
    }
   ],
   "source": [
    "#all_values = record.split(',')\n",
    "all_val=test_data_list[12].split(',')\n",
    "\n",
    "x=model_load1((np.asfarray(all_val[1:])/255.0*0.99)+0.01)\n",
    "print(np.argmax(x))"
   ]
  },
  {
   "cell_type": "code",
   "execution_count": 44,
   "metadata": {},
   "outputs": [],
   "source": [
    "#print(all_val)"
   ]
  },
  {
   "cell_type": "code",
   "execution_count": 42,
   "metadata": {},
   "outputs": [
    {
     "data": {
      "text/plain": [
       "<matplotlib.image.AxesImage at 0x7f8c4b754b50>"
      ]
     },
     "execution_count": 42,
     "metadata": {},
     "output_type": "execute_result"
    },
    {
     "data": {
      "image/png": "[encoded data removed]",
      "text/plain": [
       "<Figure size 432x288 with 1 Axes>"
      ]
     },
     "metadata": {
      "needs_background": "light"
     },
     "output_type": "display_data"
    }
   ],
   "source": [
    "np.shape(all_val[1:])\n",
    "img_arr=(np.asfarray(all_val[1:]).reshape(28,28))\n",
    "plt.imshow(img_arr, cmap='Greys', interpolation='None')\n",
    "#all_val[1:]"
   ]
  },
  {
   "cell_type": "code",
   "execution_count": 17,
   "metadata": {},
   "outputs": [
    {
     "data": {
      "text/plain": [
       "2"
      ]
     },
     "execution_count": 17,
     "metadata": {},
     "output_type": "execute_result"
    }
   ],
   "source": [
    "x=([3.19551112e-02, 4.67134903e-05, 6.16973632e-01, 6.67076991e-03,\n",
    " 1.93165164e-05, 2.65194023e-02, 1.67664562e-03, 2.42923285e-04,\n",
    " 2.33313692e-03, 9.74190335e-06])\n",
    "\n",
    "np.argmax(x)"
   ]
  },
  {
   "cell_type": "code",
   "execution_count": 18,
   "metadata": {},
   "outputs": [
    {
     "data": {
      "text/plain": [
       "2"
      ]
     },
     "execution_count": 18,
     "metadata": {},
     "output_type": "execute_result"
    }
   ],
   "source": [
    "y=([2.51634675e-02, 3.74693037e-05, 6.34802279e-01, 4.89430177e-03,\n",
    " 9.64302607e-05, 1.80179841e-02, 1.70751065e-03, 2.29159066e-04,\n",
    " 7.03109163e-03, 5.96270591e-06])\n",
    "np.argmax(y)"
   ]
  },
  {
   "cell_type": "code",
   "execution_count": 20,
   "metadata": {},
   "outputs": [
    {
     "ename": "SyntaxError",
     "evalue": "invalid syntax (<ipython-input-20-1be019ac7047>, line 1)",
     "output_type": "error",
     "traceback": [
      "\u001b[0;36m  File \u001b[0;32m\"<ipython-input-20-1be019ac7047>\"\u001b[0;36m, line \u001b[0;32m1\u001b[0m\n\u001b[0;31m    [2.71225823e-02 3.91756717e-05 6.46650732e-01 6.56574500e-03\u001b[0m\n\u001b[0m                                 ^\u001b[0m\n\u001b[0;31mSyntaxError\u001b[0m\u001b[0;31m:\u001b[0m invalid syntax\n"
     ]
    }
   ],
   "source": [
    "[2.71225823e-02 3.91756717e-05 6.46650732e-01 6.56574500e-03\n",
    " 6.83941418e-05 2.43609505e-02 2.24154528e-03 1.96589101e-04\n",
    " 3.52209562e-03 2.89174816e-06]\n"
   ]
  },
  {
   "cell_type": "code",
   "execution_count": 29,
   "metadata": {},
   "outputs": [
    {
     "name": "stdout",
     "output_type": "stream",
     "text": [
      "debug2\n",
      "<class 'numpy.ndarray'>\n",
      "(28, 28)\n",
      "[255. 255. 255. 255. 255. 255. 255. 255. 255. 255. 255. 255. 255. 255.\n",
      " 255. 255. 255. 255. 255. 255. 255. 255. 255. 255. 255. 255. 255. 255.\n",
      " 255. 255. 255. 255. 255. 255. 255. 255. 255. 255. 255. 255. 255. 255.\n",
      " 255. 255. 255. 255. 255. 255. 255. 255. 255. 255. 255. 255. 255. 255.\n",
      " 255. 255. 255. 255. 255. 255. 255. 255. 255. 255. 255. 255. 255. 255.\n",
      " 242. 188. 221. 255. 255. 255. 255. 255. 255. 255. 255. 255. 255. 255.\n",
      " 255. 255. 255. 255. 255. 255. 255. 255. 255. 255. 255. 255. 253. 213.\n",
      "  97.  63. 182. 255. 255. 255. 255. 255. 255. 255. 255. 255. 255. 255.\n",
      " 255. 255. 255. 255. 255. 255. 255. 255. 255. 255. 255. 248. 159.  60.\n",
      " 119. 227. 253. 255. 255. 255. 255. 255. 255. 255. 255. 255. 255. 255.\n",
      " 255. 255. 255. 255. 255. 255. 255. 255. 255. 255. 247. 142.  63. 185.\n",
      " 249. 255. 255. 255. 255. 255. 255. 255. 255. 255. 255. 255. 255. 255.\n",
      " 255. 255. 255. 255. 255. 255. 255. 255. 255. 250. 145.  64. 201. 254.\n",
      " 255. 255. 255. 255. 255. 255. 255. 255. 255. 255. 255. 255. 255. 255.\n",
      " 255. 255. 255. 255. 255. 255. 255. 255. 253. 171.  61. 200. 254. 255.\n",
      " 255. 255. 255. 255. 255. 255. 255. 255. 255. 255. 255. 255. 255. 255.\n",
      " 255. 255. 255. 255. 255. 255. 255. 255. 204.  60. 176. 254. 255. 255.\n",
      " 255. 255. 255. 255. 255. 255. 255. 255. 255. 255. 255. 255. 255. 255.\n",
      " 255. 255. 255. 255. 255. 255. 255. 224.  76. 138. 250. 255. 255. 255.\n",
      " 255. 255. 255. 255. 255. 255. 255. 255. 255. 255. 255. 255. 255. 255.\n",
      " 255. 255. 255. 255. 255. 255. 249. 112. 103. 241. 255. 255. 255. 255.\n",
      " 255. 255. 255. 255. 255. 255. 255. 255. 255. 255. 255. 255. 255. 255.\n",
      " 255. 255. 255. 255. 255. 255. 201.  60. 215. 253. 230. 210. 209. 215.\n",
      " 230. 247. 255. 255. 255. 255. 255. 255. 255. 255. 255. 255. 255. 255.\n",
      " 255. 255. 255. 255. 255. 251. 111. 123. 227. 131.  61.  63.  66.  63.\n",
      "  64.  86. 170. 242. 255. 255. 255. 255. 255. 255. 255. 255. 255. 255.\n",
      " 255. 255. 255. 255. 255. 229.  54. 109.  66.  85. 189. 231. 234. 228.\n",
      " 210. 156.  66. 104. 228. 255. 255. 255. 255. 255. 255. 255. 255. 255.\n",
      " 255. 255. 255. 255. 255. 204.  21.  54. 164. 238. 255. 255. 255. 255.\n",
      " 255. 254. 224.  99.  78. 214. 255. 255. 255. 255. 255. 255. 255. 255.\n",
      " 255. 255. 255. 255. 255. 196.  42. 202. 254. 255. 255. 255. 255. 255.\n",
      " 255. 255. 255. 240. 117.  92. 245. 255. 255. 255. 255. 255. 255. 255.\n",
      " 255. 255. 255. 255. 255. 218.  61. 221. 255. 255. 255. 255. 255. 255.\n",
      " 255. 255. 255. 255. 223.  60. 195. 255. 255. 255. 255. 255. 255. 255.\n",
      " 255. 255. 255. 255. 255. 241.  75. 177. 255. 255. 255. 255. 255. 255.\n",
      " 255. 255. 255. 255. 252. 103. 148. 255. 255. 255. 255. 255. 255. 255.\n",
      " 255. 255. 255. 255. 255. 254. 138.  99. 249. 255. 255. 255. 255. 255.\n",
      " 255. 255. 255. 255. 255. 126. 129. 255. 255. 255. 255. 255. 255. 255.\n",
      " 255. 255. 255. 255. 255. 255. 210.  60. 222. 255. 255. 255. 255. 255.\n",
      " 255. 255. 255. 255. 255. 124. 130. 255. 255. 255. 255. 255. 255. 255.\n",
      " 255. 255. 255. 255. 255. 255. 244.  84. 148. 253. 255. 255. 255. 255.\n",
      " 255. 255. 255. 255. 252.  98. 155. 255. 255. 255. 255. 255. 255. 255.\n",
      " 255. 255. 255. 255. 255. 255. 255. 184.  59. 210. 255. 255. 255. 255.\n",
      " 255. 255. 255. 255. 241.  72. 190. 255. 255. 255. 255. 255. 255. 255.\n",
      " 255. 255. 255. 255. 255. 255. 255. 247. 120.  71. 204. 253. 255. 255.\n",
      " 255. 255. 255. 255. 197.  62. 226. 255. 255. 255. 255. 255. 255. 255.\n",
      " 255. 255. 255. 255. 255. 255. 255. 255. 243. 137.  60. 168. 247. 255.\n",
      " 255. 255. 255. 235.  90. 126. 253. 255. 255. 255. 255. 255. 255. 255.\n",
      " 255. 255. 255. 255. 255. 255. 255. 255. 255. 249. 177.  64.  97. 169.\n",
      " 206. 209. 187.  88.  86. 227. 255. 255. 255. 255. 255. 255. 255. 255.\n",
      " 255. 255. 255. 255. 255. 255. 255. 255. 255. 255. 254. 220. 141.  84.\n",
      "  66.  66.  69. 129. 230. 255. 255. 255. 255. 255. 255. 255. 255. 255.\n",
      " 255. 255. 255. 255. 255. 255. 255. 255. 255. 255. 255. 255. 255. 247.\n",
      " 235. 235. 239. 253. 255. 255. 255. 255. 255. 255. 255. 255. 255. 255.\n",
      " 255. 255. 255. 255. 255. 255. 255. 255. 255. 255. 255. 255. 255. 255.\n",
      " 255. 255. 255. 255. 255. 255. 255. 255. 255. 255. 255. 255. 255. 255.]\n",
      "(784,)\n"
     ]
    },
    {
     "name": "stderr",
     "output_type": "stream",
     "text": [
      "/home/ayushman/anaconda3/lib/python3.7/site-packages/ipykernel_launcher.py:3: DeprecationWarning: `imread` is deprecated!\n",
      "`imread` is deprecated in SciPy 1.0.0, and will be removed in 1.2.0.\n",
      "Use ``imageio.imread`` instead.\n",
      "  This is separate from the ipykernel package so we can avoid doing imports until\n",
      "/home/ayushman/anaconda3/lib/python3.7/site-packages/ipykernel_launcher.py:7: DeprecationWarning: `imresize` is deprecated!\n",
      "`imresize` is deprecated in SciPy 1.0.0, and will be removed in 1.2.0.\n",
      "Use ``skimage.transform.resize`` instead.\n",
      "  import sys\n"
     ]
    },
    {
     "data": {
      "image/png": "[encoded data removed]",
      "text/plain": [
       "<Figure size 432x288 with 1 Axes>"
      ]
     },
     "metadata": {
      "needs_background": "light"
     },
     "output_type": "display_data"
    }
   ],
   "source": [
    "        from scipy.misc import imsave, imread, imresize\n",
    "\n",
    "        x = imread('output.png',mode='L')\n",
    "        #compute a bit-wise inversion so black becomes white and vice versa\n",
    "        #x = np.invert(x)\n",
    "        #make it the right size\n",
    "        x = imresize(x,(28,28))\n",
    "        x = np.invert(x)\n",
    "\n",
    "        #imshow(x)\n",
    "        plt.imshow(x, cmap='Greys', interpolation='None')\n",
    "        #convert to a 4D tensor to feed into our model\n",
    "        #x = x.reshape(1,28,28,1)\n",
    "        print (\"debug2\")\n",
    "        print (type(x))\n",
    "        print (np.shape(x))\n",
    "        #img_data  = x.reshape(784)\n",
    "        # then scale data to range from 0.01 to 1.0\n",
    "        #img_data = ((img_data / 255.0 * 0.99) + 0.01)\n",
    "        label=0\n",
    "\n",
    "        img_data  =  x.reshape(784)\n",
    "        print(img_data)\n",
    "\n",
    "        print (np.shape(img_data))\n",
    "        # then scale data to range from 0.01 to 1.0\n",
    "        img_data = (img_data / 255.0 * 0.99) + 0.01"
   ]
  },
  {
   "cell_type": "code",
   "execution_count": null,
   "metadata": {},
   "outputs": [],
   "source": []
  }
 ],
 "metadata": {
  "kernelspec": {
   "display_name": "Python 3",
   "language": "python",
   "name": "python3"
  },
  "language_info": {
   "codemirror_mode": {
    "name": "ipython",
    "version": 3
   },
   "file_extension": ".py",
   "mimetype": "text/x-python",
   "name": "python",
   "nbconvert_exporter": "python",
   "pygments_lexer": "ipython3",
   "version": "3.7.4"
  }
 },
 "nbformat": 4,
 "nbformat_minor": 2
}
