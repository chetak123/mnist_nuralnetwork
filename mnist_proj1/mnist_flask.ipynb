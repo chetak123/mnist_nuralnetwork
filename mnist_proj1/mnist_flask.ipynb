{
 "cells": [
  {
   "cell_type": "code",
   "execution_count": 1,
   "metadata": {},
   "outputs": [],
   "source": [
    "import pickle\n",
    "import os\n",
    "\n",
    "#import libraries\n",
    "import numpy as np\n",
    "import scipy.special #here its used for the activation function(writting clear sigmoid fun.)\n",
    "import matplotlib.pyplot as plt"
   ]
  },
  {
   "cell_type": "code",
   "execution_count": 2,
   "metadata": {},
   "outputs": [],
   "source": [
    "def nural(input_l):\n",
    "    x_act=lambda x:scipy.special.expit(x)\n",
    "    inp=np.array(input_l,ndmin=2).T\n",
    "    hi_i=np.dot(x_wih,input_l)\n",
    "    hi_o=x_act(hi_i)\n",
    "    fi_i=np.dot(x_who,hi_o)\n",
    "    fi_o=x_act(fi_i)\n",
    "    return (fi_o)"
   ]
  },
  {
   "cell_type": "code",
   "execution_count": 3,
   "metadata": {},
   "outputs": [
    {
     "data": {
      "text/plain": [
       "<function __main__.nural(input_l)>"
      ]
     },
     "execution_count": 3,
     "metadata": {},
     "output_type": "execute_result"
    }
   ],
   "source": [
    "# load the mnist test data CSV file into a list\n",
    "dataset_path=os.path.join(os.path.pardir,\"mnist_dataset/mnist_test.csv\")\n",
    "test_data_file = open(dataset_path, 'r')\n",
    "#test_data_file = open(\"mnist_train_100.csv\", 'r')\n",
    "test_data_list = test_data_file.readlines()\n",
    "test_data_file.close()\n",
    "model_path1=os.path.join(os.path.pardir,'models','model_reg.pkl') #path variable where file is stored\n",
    "model_path2=os.path.join(os.path.pardir,'models','model_who.pkl') #path variable where file is stored\n",
    "model_path3=os.path.join(os.path.pardir,'models','model_wih.pkl') #path variable where file is stored\n",
    "#checking the saved model through already available path variable model_path\n",
    "model_pick1=open(model_path1,'rb') #rb means read only in binary format (since its saved in binary not UTF8)\n",
    "model_pick2=open(model_path2,'rb') #rb means read only in bi\n",
    "model_pick3=open(model_path3,'rb') #rb means read only in bi\n",
    "model_load1=pickle.load(model_pick1)\n",
    "x_wih=pickle.load(model_pick3)\n",
    "x_who=pickle.load(model_pick2)\n",
    "model_pick1.close()\n",
    "model_pick2.close()\n",
    "model_pick3.close()\n",
    "model_load1"
   ]
  },
  {
   "cell_type": "code",
   "execution_count": 4,
   "metadata": {},
   "outputs": [],
   "source": [
    "# test the neural network\n",
    "# scorecard for how well the network performs, initially empty\n",
    "scorecards = []\n",
    "# go through all the records in the test data set\n",
    "for record in test_data_list:\n",
    "# split the record by the ',' commas\n",
    "    all_values = record.split(',')\n",
    "    # correct answer is first value\n",
    "    correct_label = int(all_values[0])\n",
    "    #print(correct_label, \"correct label\")\n",
    "    # scale and shift the inputs\n",
    "    inputs = (np.asfarray(all_values[1:]) / 255.0 * 0.99) + 0.01\n",
    "    # query the network\n",
    "    outputs = model_load1(inputs)\n",
    "    # the index of the highest value corresponds to the label\n",
    "    label = np.argmax(outputs)\n",
    "    #print(label, \"network's answer\")\n",
    "    # append correct or incorrect to list\n",
    "    if (label == correct_label):\n",
    "    # network's answer matches correct answer, add 1 to scorecard\n",
    "        scorecards.append(1)\n",
    "    else:\n",
    "    # network's answer doesn't match correct answer, add 0 to scorecard\n",
    "        scorecards.append(0)\n",
    "        pass\n",
    "    pass"
   ]
  },
  {
   "cell_type": "code",
   "execution_count": 5,
   "metadata": {},
   "outputs": [
    {
     "name": "stdout",
     "output_type": "stream",
     "text": [
      "performance =  0.93\n"
     ]
    }
   ],
   "source": [
    "# calculate the performance score, the fraction of correct answers\n",
    "scorecard_array = np.asarray(scorecards)\n",
    "print (\"performance = \", scorecard_array.sum() /scorecard_array.size)"
   ]
  },
  {
   "cell_type": "code",
   "execution_count": 120,
   "metadata": {},
   "outputs": [
    {
     "name": "stdout",
     "output_type": "stream",
     "text": [
      "6\n"
     ]
    }
   ],
   "source": [
    "#all_values = record.split(',')\n",
    "all_val=test_data_list[18].split(',')\n",
    "\n",
    "x=model_load1((np.asfarray(all_val[1:])/255.0*0.99)+0.01)\n",
    "print(np.argmax(x))"
   ]
  },
  {
   "cell_type": "code",
   "execution_count": 121,
   "metadata": {},
   "outputs": [
    {
     "name": "stdout",
     "output_type": "stream",
     "text": [
      "[  6.   0.   0.   0.   0.   0.   0.   0.   0.   0.   0.   0.   0.   0.\n",
      "   0.   0.   0.   0.   0.   0.   0.   0.   0.   0.   0.   0.   0.   0.\n",
      "   0.   0.   0.   0.   0.   0.   0.   0.   0.   0.   0.   0.   0.   0.\n",
      "   0.   0.   0.   0.   0.   0.   0.   0.   0.   0.   0.   0.   0.   0.\n",
      "   0.   0.   0.   0.   0.   0.   0.   0.   0.   0.   0.   0.   0.   0.\n",
      "   0.   0.   0.   0.   0.   0.   0.   0.   0.   0.   0.   0.   0.   0.\n",
      "   0.   0.   0.   0.   0.   0.   0.   0.   0.   0.   0.   0.   0.   0.\n",
      "   0.   0.   0.  34. 169. 250.  40.   0.   0.   0.   0.   0.   0.   0.\n",
      "   0.   0.   0.   0.   0.   0.   0.   0.   0.   0.   0.   0.   0.   0.\n",
      "   0.   0.  58. 242. 221. 143.  17.   0.   0.   0.   0.   0.   0.   0.\n",
      "   0.   0.   0.   0.   0.   0.   0.   0.   0.   0.   0.   0.   0.   0.\n",
      "   0.  75. 247. 143.  10.   0.   0.   0.   0.   0.   0.   0.   0.   0.\n",
      "   0.   0.   0.   0.   0.   0.   0.   0.   0.   0.   0.   0.   0.   0.\n",
      "  37. 245. 184.   2.   0.   0.   0.   0.   0.   0.   0.   0.   0.   0.\n",
      "   0.   0.   0.   0.   0.   0.   0.   0.   0.   0.   0.   0.   0.   8.\n",
      " 192. 200.  14.   0.   0.   0.   0.   0.   0.   0.   0.   0.   0.   0.\n",
      "   0.   0.   0.   0.   0.   0.   0.   0.   0.   0.   0.   0.   0. 139.\n",
      " 247.  28.   0.   0.   0.   0.   0.   0.   0.   0.   0.   0.   0.   0.\n",
      "   0.   0.   0.   0.   0.   0.   0.   0.   0.   0.   0.   0.   7. 231.\n",
      " 183.   0.   0.   0.   0.   0.   0.   0.   0.   0.   0.   0.   0.   0.\n",
      "   0.   0.   0.   0.   0.   0.   0.   0.   0.   0.   0.   0. 125. 243.\n",
      "  50.   0.   0.   0.   0.   0.   0.   0.   0.   0.   0.   0.   0.   0.\n",
      "   0.   0.   0.   0.   0.   0.   0.   0.   0.   0.   0.   0. 195. 184.\n",
      "   0.   0.   0.   0.   0.   0.   0.   0.   0.   0.   0.   0.   0.   0.\n",
      "   0.   0.   0.   0.   0.   0.   0.   0.   0.   0.   0.  61. 251.  41.\n",
      "   0.   0.   0.  64.  43.   0.   0.   0.   0.   0.   0.   0.   0.   0.\n",
      "   0.   0.   0.   0.   0.   0.   0.   0.   0.   0.   0. 152. 210.   7.\n",
      "   0.  96. 237. 254. 247. 107.   0.   0.   0.   0.   0.   0.   0.   0.\n",
      "   0.   0.   0.   0.   0.   0.   0.   0.   0.   0.   0. 250.  84.   0.\n",
      "   6. 223.  84.  13.  87. 246.  72.   0.   0.   0.   0.   0.   0.   0.\n",
      "   0.   0.   0.   0.   0.   0.   0.   0.   0.   0.  43. 254.  80.   0.\n",
      "  56. 151.   0.   0.   0. 147. 193.   0.   0.   0.   0.   0.   0.   0.\n",
      "   0.   0.   0.   0.   0.   0.   0.   0.   0.   0.  67. 254.  41.   0.\n",
      "  13.  19.   0.   0.   0.  42. 253.   0.   0.   0.   0.   0.   0.   0.\n",
      "   0.   0.   0.   0.   0.   0.   0.   0.   0.   0.  67. 254.  13.   0.\n",
      "   0.   0.   0.   0.   0.  14. 253.   0.   0.   0.   0.   0.   0.   0.\n",
      "   0.   0.   0.   0.   0.   0.   0.   0.   0.   0.  68. 255.  13.   0.\n",
      "   0.   0.   0.   0.   0.  77. 240.   0.   0.   0.   0.   0.   0.   0.\n",
      "   0.   0.   0.   0.   0.   0.   0.   0.   0.   0.  67. 254.  13.   0.\n",
      "   0.   0.   0.   0.   5. 181. 147.   0.   0.   0.   0.   0.   0.   0.\n",
      "   0.   0.   0.   0.   0.   0.   0.   0.   0.   0.  25. 229. 105.   0.\n",
      "   0.   0.   0.   5. 156. 213.  20.   0.   0.   0.   0.   0.   0.   0.\n",
      "   0.   0.   0.   0.   0.   0.   0.   0.   0.   0.   0. 107. 246. 105.\n",
      "  14.  49.  95. 217. 209.  27.   0.   0.   0.   0.   0.   0.   0.   0.\n",
      "   0.   0.   0.   0.   0.   0.   0.   0.   0.   0.   0.   0. 107. 246.\n",
      " 253. 253. 240. 130.   6.   0.   0.   0.   0.   0.   0.   0.   0.   0.\n",
      "   0.   0.   0.   0.   0.   0.   0.   0.   0.   0.   0.   0.   0.   0.\n",
      "   0.   0.   0.   0.   0.   0.   0.   0.   0.   0.   0.   0.   0.   0.\n",
      "   0.   0.   0.   0.   0.   0.   0.   0.   0.   0.   0.   0.   0.   0.\n",
      "   0.   0.   0.   0.   0.   0.   0.   0.   0.   0.   0.   0.   0.   0.\n",
      "   0.   0.   0.   0.   0.   0.   0.   0.   0.   0.   0.   0.   0.   0.\n",
      "   0.   0.   0.   0.   0.   0.   0.   0.   0.   0.   0.   0.   0.   0.\n",
      "   0.   0.   0.   0.   0.   0.   0.   0.   0.   0.   0.   0.   0.   0.\n",
      "   0.   0.   0.   0.   0.   0.   0.   0.   0.   0.   0.   0.   0.   0.\n",
      "   0.   0.   0.   0.   0.   0.   0.   0.   0.   0.   0.   0.   0.   0.\n",
      "   0.   0.   0.   0.   0.   0.   0.   0.   0.   0.   0.   0.   0.   0.\n",
      "   0.]\n"
     ]
    }
   ],
   "source": [
    "print((np.asfarray(all_val)))"
   ]
  },
  {
   "cell_type": "code",
   "execution_count": 122,
   "metadata": {},
   "outputs": [
    {
     "data": {
      "text/plain": [
       "<matplotlib.image.AxesImage at 0x7f8b01d26b10>"
      ]
     },
     "execution_count": 122,
     "metadata": {},
     "output_type": "execute_result"
    },
    {
     "data": {
      "image/png": "[encoded data removed]",
      "text/plain": [
       "<Figure size 432x288 with 1 Axes>"
      ]
     },
     "metadata": {
      "needs_background": "light"
     },
     "output_type": "display_data"
    }
   ],
   "source": [
    "np.shape(all_val[1:])\n",
    "img_arr=(np.asfarray(all_val[1:]).reshape(28,28))\n",
    "plt.imshow(img_arr, cmap='Greys', interpolation='None')\n",
    "#all_val[1:]"
   ]
  },
  {
   "cell_type": "code",
   "execution_count": 9,
   "metadata": {},
   "outputs": [
    {
     "data": {
      "text/plain": [
       "2"
      ]
     },
     "execution_count": 9,
     "metadata": {},
     "output_type": "execute_result"
    }
   ],
   "source": [
    "x=([3.19551112e-02, 4.67134903e-05, 6.16973632e-01, 6.67076991e-03,\n",
    " 1.93165164e-05, 2.65194023e-02, 1.67664562e-03, 2.42923285e-04,\n",
    " 2.33313692e-03, 9.74190335e-06])\n",
    "\n",
    "np.argmax(x)"
   ]
  },
  {
   "cell_type": "code",
   "execution_count": 10,
   "metadata": {},
   "outputs": [
    {
     "data": {
      "text/plain": [
       "2"
      ]
     },
     "execution_count": 10,
     "metadata": {},
     "output_type": "execute_result"
    }
   ],
   "source": [
    "y=([2.51634675e-02, 3.74693037e-05, 6.34802279e-01, 4.89430177e-03,\n",
    " 9.64302607e-05, 1.80179841e-02, 1.70751065e-03, 2.29159066e-04,\n",
    " 7.03109163e-03, 5.96270591e-06])\n",
    "np.argmax(y)"
   ]
  },
  {
   "cell_type": "code",
   "execution_count": 114,
   "metadata": {},
   "outputs": [
    {
     "name": "stderr",
     "output_type": "stream",
     "text": [
      "/home/ayushman/anaconda3/lib/python3.7/site-packages/ipykernel_launcher.py:3: DeprecationWarning: `imread` is deprecated!\n",
      "`imread` is deprecated in SciPy 1.0.0, and will be removed in 1.2.0.\n",
      "Use ``imageio.imread`` instead.\n",
      "  This is separate from the ipykernel package so we can avoid doing imports until\n",
      "/home/ayushman/anaconda3/lib/python3.7/site-packages/ipykernel_launcher.py:7: DeprecationWarning: `imresize` is deprecated!\n",
      "`imresize` is deprecated in SciPy 1.0.0, and will be removed in 1.2.0.\n",
      "Use ``skimage.transform.resize`` instead.\n",
      "  import sys\n"
     ]
    },
    {
     "name": "stdout",
     "output_type": "stream",
     "text": [
      "debug2\n",
      "(28, 28)\n",
      "<class 'int'>\n",
      "[0, 0, 0, 0, 0, 0, 0, 4, 60, 5, 2, 0, 0, 0, 0, 0, 0, 0, 0, 0, 0, 0, 0, 0, 0, 0, 0, 0, 0, 0, 0, 0, 2, 97, 171, 213, 222, 219, 197, 141, 109, 130, 136, 123, 65, 0, 0, 0, 0, 0, 0, 0, 0, 0, 0, 0, 0, 0, 0, 5, 154, 249, 204, 151, 136, 141, 196, 222, 218, 236, 239, 203, 161, 2, 0, 0, 0, 0, 0, 0, 0, 0, 0, 0, 0, 0, 0, 100, 253, 126, 5, 0, 0, 0, 64, 94, 101, 124, 73, 124, 250, 86, 0, 0, 0, 0, 0, 0, 0, 0, 0, 0, 0, 0, 0, 158, 213, 5, 0, 0, 0, 0, 0, 0, 0, 0, 0, 69, 239, 113, 0, 0, 0, 0, 0, 0, 0, 0, 0, 0, 0, 0, 1, 201, 165, 0, 0, 0, 0, 0, 0, 0, 0, 0, 0, 67, 237, 114, 0, 0, 0, 0, 0, 0, 0, 0, 0, 0, 0, 0, 1, 195, 170, 0, 0, 0, 0, 0, 0, 0, 0, 0, 0, 76, 244, 100, 0, 0, 0, 0, 0, 0, 0, 0, 0, 0, 0, 0, 0, 167, 205, 3, 0, 0, 0, 0, 0, 0, 0, 0, 0, 100, 246, 81, 0, 0, 0, 0, 0, 0, 0, 0, 0, 0, 0, 0, 0, 108, 250, 89, 0, 0, 0, 0, 0, 0, 0, 0, 1, 163, 213, 60, 0, 0, 0, 0, 0, 0, 0, 0, 0, 0, 0, 0, 0, 65, 210, 197, 66, 0, 0, 0, 0, 0, 0, 0, 73, 238, 134, 0, 0, 0, 0, 0, 0, 0, 0, 0, 0, 0, 0, 0, 0, 0, 90, 236, 187, 71, 0, 0, 0, 0, 0, 3, 157, 234, 72, 0, 0, 0, 0, 0, 0, 0, 0, 0, 0, 0, 0, 0, 0, 0, 0, 93, 226, 219, 110, 72, 63, 76, 93, 161, 253, 122, 0, 0, 0, 0, 0, 0, 0, 0, 0, 0, 0, 0, 0, 0, 0, 0, 69, 130, 210, 239, 230, 251, 237, 210, 228, 237, 180, 71, 0, 0, 0, 0, 0, 0, 0, 0, 0, 0, 0, 0, 0, 0, 2, 115, 228, 239, 180, 142, 136, 137, 163, 191, 205, 215, 245, 221, 100, 1, 0, 0, 0, 0, 0, 0, 0, 0, 0, 0, 0, 0, 101, 249, 165, 75, 1, 0, 0, 0, 0, 0, 1, 3, 79, 181, 247, 104, 0, 0, 0, 0, 0, 0, 0, 0, 0, 0, 0, 1, 187, 194, 60, 0, 0, 0, 0, 0, 0, 0, 0, 0, 0, 60, 179, 221, 70, 0, 0, 0, 0, 0, 0, 0, 0, 0, 0, 5, 221, 140, 0, 0, 0, 0, 0, 0, 0, 0, 0, 0, 0, 0, 78, 243, 127, 0, 0, 0, 0, 0, 0, 0, 0, 0, 0, 4, 215, 152, 0, 0, 0, 0, 0, 0, 0, 0, 0, 0, 0, 0, 2, 206, 169, 0, 0, 0, 0, 0, 0, 0, 0, 0, 0, 0, 158, 218, 62, 0, 0, 0, 0, 0, 0, 0, 0, 0, 0, 0, 82, 242, 144, 0, 0, 0, 0, 0, 0, 0, 0, 0, 0, 0, 89, 248, 124, 1, 0, 0, 0, 0, 0, 0, 0, 0, 0, 71, 204, 208, 66, 0, 0, 0, 0, 0, 0, 0, 0, 0, 0, 0, 2, 152, 249, 131, 60, 0, 0, 0, 0, 0, 0, 0, 80, 206, 226, 85, 0, 0, 0, 0, 0, 0, 0, 0, 0, 0, 0, 0, 0, 61, 143, 249, 192, 108, 68, 2, 0, 0, 5, 113, 231, 209, 83, 0, 0, 0, 0, 0, 0, 0, 0, 0, 0, 0, 0, 0, 0, 0, 2, 98, 194, 248, 237, 201, 149, 147, 203, 251, 168, 69, 0, 0, 0, 0, 0, 0, 0, 0, 0, 0, 0, 0, 0, 0, 0, 0, 0, 0, 3, 85, 120, 169, 216, 219, 179, 101, 3, 0, 0, 0, 0, 0, 0, 0, 0, 0, 0, 0, 0, 0, 0, 0, 0, 0, 0, 0, 0, 0, 0, 0, 4, 4, 1, 0, 0, 0, 0, 0, 0, 0, 0, 0, 0, 0, 0, 0, 0, 0, 0, 0, 0, 0, 0, 0, 0, 0, 0, 0, 0, 0, 0, 0, 0, 0, 0, 0, 0, 0, 0, 0, 0, 0, 0, 0, 0, 0, 0, 0, 0, 0, 0, 0, 0, 0, 0, 0, 0, 0, 0, 0, 0, 0, 0, 0, 0, 0, 0, 0, 0, 0, 0, 0, 0, 0, 0, 0, 0, 0, 0, 0, 0, 0, 0, 0, 0, 0, 0, 0, 0, 0, 0, 0, 0, 0, 0, 0, 0, 0, 0, 0, 0, 0]\n",
      "(784,)\n"
     ]
    },
    {
     "data": {
      "image/png": "[encoded data removed]",
      "text/plain": [
       "<Figure size 432x288 with 1 Axes>"
      ]
     },
     "metadata": {
      "needs_background": "light"
     },
     "output_type": "display_data"
    }
   ],
   "source": [
    "        from scipy.misc import imsave, imread, imresize\n",
    "\n",
    "        x = imread('output.png',mode='L')\n",
    "        #compute a bit-wise inversion so black becomes white and vice versa\n",
    "        #x = np.invert(x)\n",
    "        #make it the right size\n",
    "        x = imresize(x,(28,28))\n",
    "        x = np.invert(x)\n",
    "        x=x.reshape(784)\n",
    "       # x=x.tolist()\n",
    "        with np.nditer(x, op_flags=['readwrite']) as it:\n",
    "            for i in it:\n",
    "                if (i>5 and i<200):\n",
    "                    i[...]=i+54\n",
    "            #print(i)\n",
    "        #imshow(x)\n",
    "        #x=np.asfarray(x)\n",
    "        x=x.reshape(28,28)\n",
    "        plt.imshow(x, cmap='Greys', interpolation='None')\n",
    "        #convert to a 4D tensor to feed into our model\n",
    "        #x = x.reshape(1,28,28,1)\n",
    "        print (\"debug2\")\n",
    "        print (np.shape(x))\n",
    "        #img_data  = x.reshape(784)\n",
    "        # then scale data to range from 0.01 to 1.0\n",
    "        #img_data = ((img_data / 255.0 * 0.99) + 0.01)\n",
    "        label=0\n",
    "\n",
    "        img_data  =  x.reshape(784)\n",
    "        img_data1=img_data.tolist()\n",
    "        print (type(img_data1[2]))\n",
    "        \n",
    "        print(img_data1)\n",
    "\n",
    "        print (np.shape(img_data))\n",
    "        # then scale data to range from 0.01 to 1.0\n",
    "        img_data = (img_data / 255.0 * 0.99) + 0.01"
   ]
  },
  {
   "cell_type": "code",
   "execution_count": 115,
   "metadata": {},
   "outputs": [
    {
     "data": {
      "text/plain": [
       "5"
      ]
     },
     "execution_count": 115,
     "metadata": {},
     "output_type": "execute_result"
    }
   ],
   "source": [
    "np.argmax(model_load1(img_data))"
   ]
  },
  {
   "cell_type": "code",
   "execution_count": null,
   "metadata": {},
   "outputs": [],
   "source": []
  },
  {
   "cell_type": "code",
   "execution_count": null,
   "metadata": {},
   "outputs": [],
   "source": []
  }
 ],
 "metadata": {
  "kernelspec": {
   "display_name": "Python 3",
   "language": "python",
   "name": "python3"
  },
  "language_info": {
   "codemirror_mode": {
    "name": "ipython",
    "version": 3
   },
   "file_extension": ".py",
   "mimetype": "text/x-python",
   "name": "python",
   "nbconvert_exporter": "python",
   "pygments_lexer": "ipython3",
   "version": "3.7.4"
  }
 },
 "nbformat": 4,
 "nbformat_minor": 2
}
