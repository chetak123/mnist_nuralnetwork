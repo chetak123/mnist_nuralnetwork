{
 "cells": [
  {
   "cell_type": "markdown",
   "metadata": {},
   "source": [
    "## writting simple nural network for mnist dataset"
   ]
  },
  {
   "cell_type": "code",
   "execution_count": 8,
   "metadata": {},
   "outputs": [],
   "source": [
    "#import libraries\n",
    "import numpy as np\n",
    "import scipy.special #here its used for the activation function(writting clear sigmoid fun.)\n",
    "import matplotlib.pyplot as plt"
   ]
  },
  {
   "cell_type": "code",
   "execution_count": 13,
   "metadata": {},
   "outputs": [],
   "source": [
    "class nuralnetwork:\n",
    "    def __init__(self,inputnode,hiddennodes,outputnodes,learningrate):\n",
    "        self.inode=inputnode\n",
    "        self.onode=outputnodes\n",
    "        self.hnode=hiddennodes\n",
    "        self.lr=learningrate\n",
    "        \n",
    "        #declaration of input to hidden weights (wih) and hidden to output nodes (who) in form of matrices\n",
    "        #the wih matix has hnode rows and inode columns\n",
    "        self.wih=np.random.normal(0.0, pow(self.hnode, -0.5),(self.hnode, self.inode))\n",
    "        self.who=np.random.normal(0.0, pow(self.onode, -0.5),(self.onode, self.hnode))\n",
    "        \n",
    "        #writting the activation function\n",
    "        self.act_fun=lambda x:scipy.special.expit(x)\n",
    "        \n",
    "    def train(self,inputs_list,targets_list):\n",
    "        #convert list to 2D array\n",
    "        inputs = np.array(inputs_list, ndmin=2).T\n",
    "        targets = np.array(targets_list, ndmin=2).T\n",
    "        \n",
    "        #signals into and out of hidden layer nodes (in form of matrix)\n",
    "        hi_inp=np.dot(self.wih,inputs)\n",
    "        hi_out=self.act_fun(hi_inp)\n",
    "        #signals into and out of final layer\n",
    "        fi_inp=np.dot(self.who,hi_out)\n",
    "        fi_out=self.act_fun(fi_inp)\n",
    "        \n",
    "        output_err=targets-fi_out #error at output layer\n",
    "        hidd_err=np.dot(self.who.T,output_err) #hidden layer error is the output_err,split by weights,\n",
    "        #recombined at hidden nodes\n",
    "        #now we have reached the core or the heart of our network\n",
    "        # update the weights for the links between the hidden and output layers\n",
    "        self.who=self.who+self.lr*np.dot((output_err*fi_out*(1.0-fi_out)),np.transpose(hi_out))\n",
    "        # update the wight for links btw input layer and hidden layer\n",
    "        self.wih+=self.lr*np.dot((hidd_err*hi_out*(1.0-hi_out)),np.transpose(inputs))\n",
    "        \n",
    "    def query(self,inputs_list):\n",
    "        inputs=np.array(inputs_list,ndmin=2).T\n",
    "        \n",
    "        hi_inp=np.dot(self.wih,inputs)\n",
    "        hi_out=self.act_fun(hi_inp)\n",
    "        \n",
    "        fi_inp=np.dot(self.who,hi_out)\n",
    "        fi_out=self.act_fun(fi_inp)\n",
    "        \n",
    "        return (fi_out)\n",
    "    def exit_out(self):\n",
    "        return(self.wih,lambda x:scipy.special.expit(x),self.who)\n",
    "        \n",
    "        "
   ]
  },
  {
   "cell_type": "code",
   "execution_count": 15,
   "metadata": {},
   "outputs": [],
   "source": [
    "# number of input, hidden and output nodes\n",
    "input_nodes = 784\n",
    "hidden_nodes = 100\n",
    "output_nodes = 10\n",
    "# learning rate is 0.3\n",
    "learning_rate = 0.3\n",
    "# create instance of neural network\n",
    "n = nuralnetwork(input_nodes,hidden_nodes,output_nodes,learning_rate)\n",
    "# load the mnist training data CSV file into a list\n",
    "training_data_file = open(\"mnist_dataset/mnist_test.csv\", 'r')\n",
    "training_data_list = training_data_file.readlines()\n",
    "training_data_file.close()\n",
    "# train the neural network\n",
    "# go through all records in the training data set\n",
    "\n",
    "for record in training_data_list:    \n",
    "# split the record by the ',' commas\n",
    "    all_values = record.split(',')\n",
    "# scale and shift the inputs\n",
    "    inputs = (np.asfarray(all_values[1:]) / 255.0 * 0.99) + 0.01\n",
    "# create the target output values (all 0.01, except the desired label which is 0.99)\n",
    "    targets = np.zeros(output_nodes) + 0.0\n",
    "    # all_values[0] is the target label for this record\n",
    "    targets[int(all_values[0])] = 0.99\n",
    "    n.train(inputs, targets)\n"
   ]
  },
  {
   "cell_type": "code",
   "execution_count": 16,
   "metadata": {},
   "outputs": [],
   "source": [
    "x_wih,x_act,x_who=n.exit_out()\n",
    "def nural(input_l):\n",
    "    x_act=lambda x:scipy.special.expit(x)\n",
    "    inp=np.array(input_l,ndmin=2).T\n",
    "    hi_i=np.dot(x_wih,input_l)\n",
    "    hi_o=x_act(hi_i)\n",
    "    fi_i=np.dot(x_who,hi_o)\n",
    "    fi_o=x_act(fi_i)\n",
    "    return (fi_o)"
   ]
  },
  {
   "cell_type": "code",
   "execution_count": 18,
   "metadata": {},
   "outputs": [],
   "source": [
    "# load the mnist test data CSV file into a list\n",
    "test_data_file = open(\"mnist_dataset/mnist_test_10.csv\", 'r')\n",
    "test_data_list = test_data_file.readlines()\n",
    "test_data_file.close()"
   ]
  },
  {
   "cell_type": "code",
   "execution_count": 19,
   "metadata": {},
   "outputs": [
    {
     "name": "stdout",
     "output_type": "stream",
     "text": [
      "0\n"
     ]
    }
   ],
   "source": [
    "all_val=test_data_list[3].split(',')\n",
    "print(all_val[0])"
   ]
  },
  {
   "cell_type": "code",
   "execution_count": 20,
   "metadata": {},
   "outputs": [
    {
     "data": {
      "text/plain": [
       "array([9.30000998e-01, 1.00101861e-04, 3.95781537e-03, 4.07265296e-04,\n",
       "       1.89775509e-06, 1.16162535e-02, 2.13729765e-02, 2.49719384e-03,\n",
       "       5.39772593e-05, 5.05554691e-05])"
      ]
     },
     "execution_count": 20,
     "metadata": {},
     "output_type": "execute_result"
    }
   ],
   "source": [
    "nural((np.asfarray(all_val[1:])/255.0*0.99)+0.01)"
   ]
  },
  {
   "cell_type": "code",
   "execution_count": 21,
   "metadata": {},
   "outputs": [
    {
     "data": {
      "text/plain": [
       "array([[9.30000998e-01],\n",
       "       [1.00101861e-04],\n",
       "       [3.95781537e-03],\n",
       "       [4.07265296e-04],\n",
       "       [1.89775509e-06],\n",
       "       [1.16162535e-02],\n",
       "       [2.13729765e-02],\n",
       "       [2.49719384e-03],\n",
       "       [5.39772593e-05],\n",
       "       [5.05554691e-05]])"
      ]
     },
     "execution_count": 21,
     "metadata": {},
     "output_type": "execute_result"
    }
   ],
   "source": [
    "n.query((np.asfarray(all_val[1:])/255.0*0.99)+0.01)"
   ]
  },
  {
   "cell_type": "code",
   "execution_count": 16,
   "metadata": {},
   "outputs": [
    {
     "data": {
      "text/plain": [
       "<matplotlib.image.AxesImage at 0x7fbbf61b0d50>"
      ]
     },
     "execution_count": 16,
     "metadata": {},
     "output_type": "execute_result"
    },
    {
     "data": {
      "image/png": "[encoded data removed]",
      "text/plain": [
       "<Figure size 432x288 with 1 Axes>"
      ]
     },
     "metadata": {
      "needs_background": "light"
     },
     "output_type": "display_data"
    }
   ],
   "source": [
    "img_arr=(np.asfarray(all_val[1:]).reshape(28,28))\n",
    "plt.imshow(img_arr,cmap='Greys',interpolation='None')"
   ]
  },
  {
   "cell_type": "code",
   "execution_count": 17,
   "metadata": {},
   "outputs": [
    {
     "data": {
      "text/plain": [
       "'# test the neural network\\n# scorecard for how well the network performs, initially empty\\nscorecard = []\\n# go through all the records in the test data set\\nfor record in test_data_list:\\n# split the record by the \\',\\' commas\\n    all_values = record.split(\\',\\')\\n    # correct answer is first value\\n    correct_label = int(all_values[0])\\n    #print(correct_label, \"correct label\")\\n    # scale and shift the inputs\\n    inputs = (np.asfarray(all_values[1:]) / 255.0 * 0.99) + 0.01\\n    # query the network\\n    outputs = n.query(inputs)\\n    # the index of the highest value corresponds to the label\\n    label = np.argmax(outputs)\\n    #print(label, \"network\\'s answer\")\\n    # append correct or incorrect to list\\n    if (label == correct_label):\\n    # network\\'s answer matches correct answer, add 1 to scorecard\\n        scorecard.append(1)\\n    else:\\n    # network\\'s answer doesn\\'t match correct answer, add 0 to scorecard\\n        scorecard.append(0)\\n        pass\\n    pass'"
      ]
     },
     "execution_count": 17,
     "metadata": {},
     "output_type": "execute_result"
    }
   ],
   "source": [
    "\"\"\"# test the neural network\n",
    "# scorecard for how well the network performs, initially empty\n",
    "scorecard = []\n",
    "# go through all the records in the test data set\n",
    "for record in test_data_list:\n",
    "# split the record by the ',' commas\n",
    "    all_values = record.split(',')\n",
    "    # correct answer is first value\n",
    "    correct_label = int(all_values[0])\n",
    "    #print(correct_label, \"correct label\")\n",
    "    # scale and shift the inputs\n",
    "    inputs = (np.asfarray(all_values[1:]) / 255.0 * 0.99) + 0.01\n",
    "    # query the network\n",
    "    outputs = n.query(inputs)\n",
    "    # the index of the highest value corresponds to the label\n",
    "    label = np.argmax(outputs)\n",
    "    #print(label, \"network's answer\")\n",
    "    # append correct or incorrect to list\n",
    "    if (label == correct_label):\n",
    "    # network's answer matches correct answer, add 1 to scorecard\n",
    "        scorecard.append(1)\n",
    "    else:\n",
    "    # network's answer doesn't match correct answer, add 0 to scorecard\n",
    "        scorecard.append(0)\n",
    "        pass\n",
    "    pass\"\"\""
   ]
  },
  {
   "cell_type": "code",
   "execution_count": 18,
   "metadata": {},
   "outputs": [
    {
     "data": {
      "text/plain": [
       "'# calculate the performance score, the fraction of correct answers\\nscorecard_array = np.asarray(scorecard)\\nprint (\"performance = \", scorecard_array.sum() /scorecard_array.size)'"
      ]
     },
     "execution_count": 18,
     "metadata": {},
     "output_type": "execute_result"
    }
   ],
   "source": [
    "\"\"\"# calculate the performance score, the fraction of correct answers\n",
    "scorecard_array = np.asarray(scorecard)\n",
    "print (\"performance = \", scorecard_array.sum() /scorecard_array.size)\"\"\""
   ]
  },
  {
   "cell_type": "code",
   "execution_count": 22,
   "metadata": {},
   "outputs": [],
   "source": [
    "\n",
    "\n",
    "import pickle\n",
    "import os\n",
    "\n",
    "#import libraries\n",
    "import numpy as np\n",
    "import scipy.special #here its used for the activation function(writting clear sigmoid fun.)\n",
    "import matplotlib.pyplot as plt"
   ]
  },
  {
   "cell_type": "code",
   "execution_count": 23,
   "metadata": {},
   "outputs": [],
   "source": [
    "\n",
    "\n",
    "#creating file path\n",
    "model_path=os.path.join(os.path.pardir,'models','model_reg.pkl') #path variable where file is stored\n",
    "model_pathwo=os.path.join(os.path.pardir,'models','model_who.pkl') #path variable where file is stored\n",
    "model_pathwi=os.path.join(os.path.pardir,'models','model_wih.pkl') #path variable where file is stored\n",
    "\n",
    "#open the file to write\n",
    "model_pickle = open(model_path, 'wb') #here wb means we are writting in binary to model_reg.pkl\n",
    "model_picklewo = open(model_pathwo, 'wb') #here wb means we are writting in binary to model_reg.pkl\n",
    "model_picklewi = open(model_pathwi, 'wb') #here wb means we are writting in binary to model_reg.pkl\n",
    "# persist the model in file\n",
    "\n",
    "pickle.dump(nural,model_pickle)\n",
    "x_wih,x_act,x_who\n",
    "pickle.dump(x_wih,model_picklewi)\n",
    "#pickle.dump(x_act,model_pickle)\n",
    "pickle.dump(x_who,model_picklewo)\n",
    "\n",
    "#close the file\n",
    "model_pickle.close()\n",
    "model_picklewi.close()\n",
    "model_picklewo.close()\n",
    "\n"
   ]
  },
  {
   "cell_type": "code",
   "execution_count": 24,
   "metadata": {},
   "outputs": [],
   "source": [
    "def nural(input_l):\n",
    "    x_act=lambda x:scipy.special.expit(x)\n",
    "    inp=np.array(input_l,ndmin=2).T\n",
    "    hi_i=np.dot(x_wih,input_l)\n",
    "    hi_o=x_act(hi_i)\n",
    "    fi_i=np.dot(x_who,hi_o)\n",
    "    fi_o=x_act(fi_i)\n",
    "    return (fi_o)"
   ]
  },
  {
   "cell_type": "code",
   "execution_count": 28,
   "metadata": {},
   "outputs": [
    {
     "data": {
      "text/plain": [
       "<function __main__.nural(input_l)>"
      ]
     },
     "execution_count": 28,
     "metadata": {},
     "output_type": "execute_result"
    }
   ],
   "source": [
    "# load the mnist test data CSV file into a list\n",
    "test_data_file = open(\"mnist_dataset/mnist_train_100.csv\", 'r')\n",
    "test_data_list = test_data_file.readlines()\n",
    "test_data_file.close()\n",
    "model_path1=os.path.join(os.path.pardir,'models','model_reg.pkl') #path variable where file is stored\n",
    "model_path2=os.path.join(os.path.pardir,'models','model_who.pkl') #path variable where file is stored\n",
    "model_path3=os.path.join(os.path.pardir,'models','model_wih.pkl') #path variable where file is stored\n",
    "#checking the saved model through already available path variable model_path\n",
    "model_pick1=open(model_path1,'rb') #rb means read only in binary format (since its saved in binary not UTF8)\n",
    "model_pick2=open(model_path2,'rb') #rb means read only in bi\n",
    "model_pick3=open(model_path3,'rb') #rb means read only in bi\n",
    "model_load1=pickle.load(model_pick1)\n",
    "x_wih=pickle.load(model_pick3)\n",
    "x_who=pickle.load(model_pick2)\n",
    "model_pick1.close()\n",
    "model_pick2.close()\n",
    "model_pick3.close()\n",
    "model_load1"
   ]
  },
  {
   "cell_type": "code",
   "execution_count": 24,
   "metadata": {},
   "outputs": [],
   "source": [
    "scores = {} # scores is an empty dict already\n",
    "\n",
    "if os.path.getsize(model_path1) > 0:      \n",
    "    with open(model_path, \"rb\") as model_pick:\n",
    "        model_load = pickle.load(model_pick)\n",
    "        # if file is not empty scores will be equal\n",
    "        # to the value unpickled\n",
    "       # scores = unpickler.load()"
   ]
  },
  {
   "cell_type": "code",
   "execution_count": 12,
   "metadata": {},
   "outputs": [
    {
     "data": {
      "text/plain": [
       "array([0.76320365, 0.00214479, 0.0245301 , 0.01291607, 0.03189287,\n",
       "       0.00897646, 0.03526153, 0.20788098, 0.00865457, 0.00234529])"
      ]
     },
     "execution_count": 12,
     "metadata": {},
     "output_type": "execute_result"
    }
   ],
   "source": [
    "#all_values = record.split(',')\n",
    "all_val=test_data_list[3].split(',')\n",
    "model_load1((np.asfarray(all_val[1:])/255.0*0.99)+0.01)"
   ]
  },
  {
   "cell_type": "code",
   "execution_count": 29,
   "metadata": {},
   "outputs": [],
   "source": [
    "# test the neural network\n",
    "# scorecard for how well the network performs, initially empty\n",
    "scorecards = []\n",
    "# go through all the records in the test data set\n",
    "for record in test_data_list:\n",
    "# split the record by the ',' commas\n",
    "    all_values = record.split(',')\n",
    "    # correct answer is first value\n",
    "    correct_label = int(all_values[0])\n",
    "    #print(correct_label, \"correct label\")\n",
    "    # scale and shift the inputs\n",
    "    inputs = (np.asfarray(all_values[1:]) / 255.0 * 0.99) + 0.01\n",
    "    # query the network\n",
    "    outputs = model_load1(inputs)\n",
    "    # the index of the highest value corresponds to the label\n",
    "    label = np.argmax(outputs)\n",
    "    #print(label, \"network's answer\")\n",
    "    # append correct or incorrect to list\n",
    "    if (label == correct_label):\n",
    "    # network's answer matches correct answer, add 1 to scorecard\n",
    "        scorecards.append(1)\n",
    "    else:\n",
    "    # network's answer doesn't match correct answer, add 0 to scorecard\n",
    "        scorecards.append(0)\n",
    "        pass\n",
    "    pass"
   ]
  },
  {
   "cell_type": "code",
   "execution_count": 30,
   "metadata": {},
   "outputs": [
    {
     "name": "stdout",
     "output_type": "stream",
     "text": [
      "performance =  0.93\n"
     ]
    }
   ],
   "source": [
    "# calculate the performance score, the fraction of correct answers\n",
    "scorecard_array = np.asarray(scorecards)\n",
    "print (\"performance = \", scorecard_array.sum() /scorecard_array.size)"
   ]
  },
  {
   "cell_type": "code",
   "execution_count": null,
   "metadata": {},
   "outputs": [],
   "source": []
  }
 ],
 "metadata": {
  "kernelspec": {
   "display_name": "Python 3",
   "language": "python",
   "name": "python3"
  },
  "language_info": {
   "codemirror_mode": {
    "name": "ipython",
    "version": 3
   },
   "file_extension": ".py",
   "mimetype": "text/x-python",
   "name": "python",
   "nbconvert_exporter": "python",
   "pygments_lexer": "ipython3",
   "version": "3.7.4"
  }
 },
 "nbformat": 4,
 "nbformat_minor": 2
}
